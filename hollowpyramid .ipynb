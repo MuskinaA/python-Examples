{
 "cells": [
  {
   "cell_type": "code",
   "execution_count": 12,
   "id": "aea63e9b-3592-491c-afe4-cf6db7f239ac",
   "metadata": {},
   "outputs": [
    {
     "name": "stdout",
     "output_type": "stream",
     "text": [
      "\n",
      "*\n",
      "**\n",
      "* *\n",
      "*  *\n",
      "*   *\n",
      "******\n"
     ]
    }
   ],
   "source": [
    "n=6\n",
    "for i in range(0,n+1):\n",
    "    for j in range(i):\n",
    "        if j==0 or j==i-1:\n",
    "            print(\"*\",end='')\n",
    "        else:\n",
    "            if i!=n:\n",
    "                print(\" \",end='')\n",
    "            else:\n",
    "                print(\"*\",end='')\n",
    "    print()\n",
    "            "
   ]
  },
  {
   "cell_type": "markdown",
   "id": "3380dfdf-c137-4d18-8c50-9afdbad6313a",
   "metadata": {},
   "source": [
    "# "
   ]
  },
  {
   "cell_type": "code",
   "execution_count": 26,
   "id": "b6f04772-dd77-4938-abc5-490327a35e55",
   "metadata": {},
   "outputs": [
    {
     "name": "stdout",
     "output_type": "stream",
     "text": [
      "*\n",
      "**\n",
      "* *\n",
      "*  *\n",
      "*   *\n",
      "*    *\n",
      "*     *\n",
      "*      *\n",
      "*       *\n",
      "**********\n"
     ]
    }
   ],
   "source": [
    "n=10\n",
    "for i in range(1,n+1):\n",
    "    for j in range(i):\n",
    "        if j==0 or j==i-1:\n",
    "            print(\"*\",end='')\n",
    "        else:\n",
    "            if i!=n:\n",
    "                print(\" \",end='')\n",
    "            else:\n",
    "                print(\"*\",end='')\n",
    "    print()"
   ]
  },
  {
   "cell_type": "code",
   "execution_count": 27,
   "id": "62847734-272d-465b-a37b-4d6892764181",
   "metadata": {},
   "outputs": [
    {
     "name": "stdout",
     "output_type": "stream",
     "text": [
      "         *\n",
      "        ***\n",
      "       *****\n",
      "      *******\n",
      "     *********\n",
      "    ***********\n",
      "   *************\n",
      "  ***************\n",
      " *****************\n"
     ]
    }
   ],
   "source": [
    "for row in range(1,10):\n",
    "        for j in range(10,row,-1):\n",
    "            print(\" \",end=\"\")\n",
    "        for col in range(0,2*row-1):\n",
    "            print(\"*\",end='')\n",
    "        print(\"\")"
   ]
  },
  {
   "cell_type": "code",
   "execution_count": 35,
   "id": "567c3104-2d54-459d-8d17-979745dd9fbf",
   "metadata": {},
   "outputs": [
    {
     "name": "stdout",
     "output_type": "stream",
     "text": [
      "      *\n",
      "     * *\n",
      "    *   *\n",
      "   *     *\n",
      "  *       *\n",
      " *         *\n",
      "*************\n"
     ]
    }
   ],
   "source": [
    "n=7\n",
    "for i in range(1,n+1):\n",
    "    for j in range(n-i):\n",
    "        print(\" \",end='')\n",
    "    for k in range(2*i-1):\n",
    "        if k==0 or k==2*i-2:\n",
    "            print(\"*\",end=\"\")\n",
    "        else:\n",
    "            if i==n:\n",
    "                print('*',end=\"\")\n",
    "            else:\n",
    "                print(' ',end='')\n",
    "    print('')"
   ]
  },
  {
   "cell_type": "code",
   "execution_count": 36,
   "id": "a2786343-a027-4120-80e7-50baa8037330",
   "metadata": {},
   "outputs": [
    {
     "name": "stdout",
     "output_type": "stream",
     "text": [
      "    *\n",
      "   ***\n",
      "  *****\n",
      " *******\n",
      "*********\n"
     ]
    }
   ],
   "source": [
    "n=5\n",
    "for i in range(1,n+1):\n",
    "    for j in range(n-i):\n",
    "        print(\" \",end='')\n",
    "    for j in range(2*i-1):\n",
    "        print(\"*\",end=\"\")\n",
    "    print('')"
   ]
  },
  {
   "cell_type": "code",
   "execution_count": 58,
   "id": "84bf3d52-0099-4f40-82df-13c6c42c352d",
   "metadata": {},
   "outputs": [
    {
     "name": "stdout",
     "output_type": "stream",
     "text": [
      "    *\n",
      "   ***\n",
      "  *****\n",
      " *******\n",
      "*********\n",
      "*********\n",
      " *******\n",
      "  *****\n",
      "   ***\n",
      "    *\n"
     ]
    }
   ],
   "source": [
    "n=5\n",
    "for i in range(1,n+1):\n",
    "    for j in range(n-i):\n",
    "        print(\" \",end='')\n",
    "    for k in range(2*i-1):\n",
    "        print(\"*\",end=\"\")\n",
    "    print('')\n",
    "for i in range(n,0,-1):\n",
    "    for j in range(n,i,-1):\n",
    "        print(' ',end=\"\")\n",
    "    for k in range(2*i-1,0,-1):\n",
    "        print('*',end=\"\")\n",
    "    print('')\n",
    "        "
   ]
  },
  {
   "cell_type": "code",
   "execution_count": 59,
   "id": "82d5437f-a448-4a23-926b-91e97616610e",
   "metadata": {},
   "outputs": [],
   "source": [
    "def diamond():\n",
    "    n=5\n",
    "    for i in range(1,n+1):\n",
    "        for j in range(n-i):\n",
    "            print(\" \",end='')\n",
    "        for k in range(2*i-1):\n",
    "            print(\"*\",end=\"\")\n",
    "        print('')\n",
    "    for i in range(n,0,-1):\n",
    "        for j in range(n,i,-1):\n",
    "            print(' ',end=\"\")\n",
    "        for k in range(2*i-1,0,-1):\n",
    "            print('*',end=\"\")\n",
    "        print('')\n",
    "    "
   ]
  },
  {
   "cell_type": "code",
   "execution_count": 60,
   "id": "4bb5074b-4e3f-4065-8706-b09e664796f4",
   "metadata": {},
   "outputs": [
    {
     "name": "stdout",
     "output_type": "stream",
     "text": [
      "    *\n",
      "   ***\n",
      "  *****\n",
      " *******\n",
      "*********\n",
      "*********\n",
      " *******\n",
      "  *****\n",
      "   ***\n",
      "    *\n"
     ]
    }
   ],
   "source": [
    "diamond()"
   ]
  },
  {
   "cell_type": "code",
   "execution_count": 61,
   "id": "abc0463c-23b3-412c-9fa7-f39f24d22299",
   "metadata": {},
   "outputs": [],
   "source": [
    "def diamond(n):\n",
    "    for i in range(1,n+1):\n",
    "        for j in range(n-i):\n",
    "            print(\" \",end='')\n",
    "        for k in range(2*i-1):\n",
    "            print(\"*\",end=\"\")\n",
    "        print('')\n",
    "    for i in range(n,0,-1):\n",
    "        for j in range(n,i,-1):\n",
    "            print(' ',end=\"\")\n",
    "        for k in range(2*i-1,0,-1):\n",
    "            print('*',end=\"\")\n",
    "        print('')"
   ]
  },
  {
   "cell_type": "code",
   "execution_count": 64,
   "id": "b58d865f-b961-4351-bfe1-97956a8e0248",
   "metadata": {},
   "outputs": [
    {
     "name": "stdout",
     "output_type": "stream",
     "text": [
      "        *\n",
      "       ***\n",
      "      *****\n",
      "     *******\n",
      "    *********\n",
      "   ***********\n",
      "  *************\n",
      " ***************\n",
      "*****************\n",
      "*****************\n",
      " ***************\n",
      "  *************\n",
      "   ***********\n",
      "    *********\n",
      "     *******\n",
      "      *****\n",
      "       ***\n",
      "        *\n"
     ]
    }
   ],
   "source": [
    "diamond(9)"
   ]
  },
  {
   "cell_type": "code",
   "execution_count": 73,
   "id": "d7c2fecf-f41b-4fc3-a093-1569525c2690",
   "metadata": {},
   "outputs": [],
   "source": [
    "def hollowpyramid(n):\n",
    "    for i in range(1,n+1):\n",
    "        for j in range(n-i):\n",
    "            print(\" \",end='')\n",
    "        for k in range(2*i-1):\n",
    "            if k==0 or k==2*i-2:\n",
    "                print(\"*\",end=\"\")\n",
    "            else:\n",
    "                if i==n:\n",
    "                    print('*',end=\"\")\n",
    "                else:\n",
    "                    print(' ',end='')\n",
    "        print('')"
   ]
  },
  {
   "cell_type": "code",
   "execution_count": 76,
   "id": "db6858fd-fc99-4fb2-babf-0527811d422e",
   "metadata": {},
   "outputs": [
    {
     "name": "stdout",
     "output_type": "stream",
     "text": [
      "         *\n",
      "        * *\n",
      "       *   *\n",
      "      *     *\n",
      "     *       *\n",
      "    *         *\n",
      "   *           *\n",
      "  *             *\n",
      " *               *\n",
      "*******************\n"
     ]
    }
   ],
   "source": [
    "hollowpyramid(10)"
   ]
  },
  {
   "cell_type": "code",
   "execution_count": 77,
   "id": "d16a1d0f-a38a-4461-892c-335c7b2457f2",
   "metadata": {},
   "outputs": [],
   "source": [
    "def pyramid():\n",
    "    for row in range(1,10):\n",
    "        for j in range(10,row,-1):\n",
    "            print(\" \",end=\"\")\n",
    "        for col in range(0,2*row-1):\n",
    "            print(\"*\",end='')\n",
    "        print(\"\")"
   ]
  },
  {
   "cell_type": "code",
   "execution_count": 78,
   "id": "ee64a94d-0afc-43fb-a79f-605078eaee84",
   "metadata": {},
   "outputs": [
    {
     "name": "stdout",
     "output_type": "stream",
     "text": [
      "         *\n",
      "        ***\n",
      "       *****\n",
      "      *******\n",
      "     *********\n",
      "    ***********\n",
      "   *************\n",
      "  ***************\n",
      " *****************\n"
     ]
    }
   ],
   "source": [
    "pyramid()"
   ]
  },
  {
   "cell_type": "code",
   "execution_count": 79,
   "id": "6bb797b6-3197-4e4d-85a5-a1abf81adb7e",
   "metadata": {},
   "outputs": [],
   "source": [
    "def pyramid(n):\n",
    "    for row in range(1,n):\n",
    "        for j in range(n,row,-1):\n",
    "            print(\" \",end=\"\")\n",
    "        for col in range(0,2*row-1):\n",
    "            print(\"*\",end='')\n",
    "        print(\"\")"
   ]
  },
  {
   "cell_type": "code",
   "execution_count": 81,
   "id": "b6e16376-5d68-47a9-828b-cff8061f6091",
   "metadata": {},
   "outputs": [
    {
     "name": "stdout",
     "output_type": "stream",
     "text": [
      "       *\n",
      "      ***\n",
      "     *****\n",
      "    *******\n",
      "   *********\n",
      "  ***********\n",
      " *************\n"
     ]
    }
   ],
   "source": [
    "pyramid(8)"
   ]
  },
  {
   "cell_type": "code",
   "execution_count": 83,
   "id": "1e1a13a1-8ade-400a-b080-63d00c17664c",
   "metadata": {},
   "outputs": [
    {
     "name": "stdout",
     "output_type": "stream",
     "text": [
      "              *\n",
      "             ***\n",
      "            *****\n",
      "           *******\n",
      "          *********\n",
      "         ***********\n",
      "        *************\n",
      "       ***************\n",
      "      *****************\n",
      "     *******************\n",
      "    *********************\n",
      "   ***********************\n",
      "  *************************\n",
      " ***************************\n"
     ]
    }
   ],
   "source": [
    "pyramid(15)"
   ]
  },
  {
   "cell_type": "code",
   "execution_count": 84,
   "id": "488988e8-1fe7-407d-ac86-00ebf4935dbe",
   "metadata": {},
   "outputs": [
    {
     "name": "stdout",
     "output_type": "stream",
     "text": [
      "              *\n",
      "             * *\n",
      "            *   *\n",
      "           *     *\n",
      "          *       *\n",
      "         *         *\n",
      "        *           *\n",
      "       *             *\n",
      "      *               *\n",
      "     *                 *\n",
      "    *                   *\n",
      "   *                     *\n",
      "  *                       *\n",
      " *                         *\n",
      "*****************************\n"
     ]
    }
   ],
   "source": [
    "hollowpyramid(15)"
   ]
  },
  {
   "cell_type": "code",
   "execution_count": 92,
   "id": "2ea7859e-0e49-43a8-9206-5f3faeb26a1a",
   "metadata": {},
   "outputs": [
    {
     "name": "stdout",
     "output_type": "stream",
     "text": [
      "*   *\n",
      " * * \n",
      "  *  \n",
      " * * \n",
      "*   *\n"
     ]
    }
   ],
   "source": [
    "n=5\n",
    "for i in range(0,n):\n",
    "    for j in range(0,n):\n",
    "        if j==i or j==n-i-1:\n",
    "            print('*',end='')\n",
    "        else:\n",
    "            print(' ',end='')\n",
    "    print('')"
   ]
  },
  {
   "cell_type": "code",
   "execution_count": 93,
   "id": "851af868-4794-49f8-a56f-563ecc23a075",
   "metadata": {},
   "outputs": [],
   "source": [
    "def cross(n):\n",
    "    for i in range(0,n):\n",
    "        for j in range(0,n):\n",
    "            if j==i or j==n-i-1:\n",
    "                print('*',end='')\n",
    "            else:\n",
    "                print(' ',end='')\n",
    "        print('')"
   ]
  },
  {
   "cell_type": "code",
   "execution_count": 94,
   "id": "c0c02fbc-59d0-49a5-9ea4-1ed4c8201a72",
   "metadata": {},
   "outputs": [
    {
     "name": "stdout",
     "output_type": "stream",
     "text": [
      "*      *\n",
      " *    * \n",
      "  *  *  \n",
      "   **   \n",
      "   **   \n",
      "  *  *  \n",
      " *    * \n",
      "*      *\n"
     ]
    }
   ],
   "source": [
    "cross(8)"
   ]
  }
 ],
 "metadata": {
  "kernelspec": {
   "display_name": "Python 3 (ipykernel)",
   "language": "python",
   "name": "python3"
  },
  "language_info": {
   "codemirror_mode": {
    "name": "ipython",
    "version": 3
   },
   "file_extension": ".py",
   "mimetype": "text/x-python",
   "name": "python",
   "nbconvert_exporter": "python",
   "pygments_lexer": "ipython3",
   "version": "3.11.7"
  }
 },
 "nbformat": 4,
 "nbformat_minor": 5
}
