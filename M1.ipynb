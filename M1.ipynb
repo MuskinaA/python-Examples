{
 "cells": [
  {
   "cell_type": "code",
   "execution_count": 1,
   "id": "35df8e7d-e337-4208-abd3-a6678011dd76",
   "metadata": {},
   "outputs": [
    {
     "name": "stdout",
     "output_type": "stream",
     "text": [
      "1\n",
      "2\n",
      "3\n",
      "4\n",
      "5\n",
      "6\n"
     ]
    }
   ],
   "source": [
    "list1=[1,2,3,4,5,6]\n",
    "for value in list1:\n",
    "    print(value)"
   ]
  },
  {
   "cell_type": "code",
   "execution_count": 2,
   "id": "2c5a4532-281b-46b9-8318-97420d5c0718",
   "metadata": {},
   "outputs": [
    {
     "name": "stdout",
     "output_type": "stream",
     "text": [
      "1\n",
      "2\n",
      "3\n",
      "4\n",
      "5\n",
      "6\n"
     ]
    }
   ],
   "source": [
    "for index in range(len(list1)):\n",
    "    print(list1[index])"
   ]
  },
  {
   "cell_type": "code",
   "execution_count": 3,
   "id": "c4c8627d-3408-4b3d-a2fe-47822e57c827",
   "metadata": {},
   "outputs": [
    {
     "name": "stdout",
     "output_type": "stream",
     "text": [
      "1\n",
      "2\n",
      "3\n",
      "4\n",
      "5\n",
      "6\n"
     ]
    }
   ],
   "source": [
    "index1=0\n",
    "while index1<len(list1):\n",
    "    print(list1[index1])\n",
    "    index1=index1+1"
   ]
  },
  {
   "cell_type": "code",
   "execution_count": 4,
   "id": "d2b4e551-f190-4afa-806c-714445dbaf48",
   "metadata": {},
   "outputs": [
    {
     "name": "stdin",
     "output_type": "stream",
     "text": [
      " 7\n"
     ]
    }
   ],
   "source": [
    "a=input()"
   ]
  },
  {
   "cell_type": "code",
   "execution_count": 5,
   "id": "8d84eef6-07c5-4509-933e-35946f8202dd",
   "metadata": {},
   "outputs": [
    {
     "data": {
      "text/plain": [
       "'7'"
      ]
     },
     "execution_count": 5,
     "metadata": {},
     "output_type": "execute_result"
    }
   ],
   "source": [
    "a"
   ]
  },
  {
   "cell_type": "code",
   "execution_count": 6,
   "id": "790dc78a-7056-4446-966a-0a5e1254959f",
   "metadata": {},
   "outputs": [
    {
     "name": "stdin",
     "output_type": "stream",
     "text": [
      "pls enter a number 23\n"
     ]
    }
   ],
   "source": [
    "a=input(\"pls enter a number\")"
   ]
  },
  {
   "cell_type": "code",
   "execution_count": 7,
   "id": "da04f662-f2bc-4f22-8860-867eaa6c57fd",
   "metadata": {},
   "outputs": [
    {
     "data": {
      "text/plain": [
       "'23'"
      ]
     },
     "execution_count": 7,
     "metadata": {},
     "output_type": "execute_result"
    }
   ],
   "source": [
    "a"
   ]
  },
  {
   "cell_type": "code",
   "execution_count": 8,
   "id": "9a324f8b-2d3e-4e02-89a2-b9973b3aeda6",
   "metadata": {},
   "outputs": [
    {
     "name": "stdin",
     "output_type": "stream",
     "text": [
      "pls enter a number 23\n"
     ]
    }
   ],
   "source": [
    "a=int(input(\"pls enter a number\"))"
   ]
  },
  {
   "cell_type": "code",
   "execution_count": 9,
   "id": "a03ab841-a83c-4a42-b092-40d8f3addc47",
   "metadata": {},
   "outputs": [
    {
     "data": {
      "text/plain": [
       "23"
      ]
     },
     "execution_count": 9,
     "metadata": {},
     "output_type": "execute_result"
    }
   ],
   "source": [
    "a"
   ]
  },
  {
   "cell_type": "code",
   "execution_count": 10,
   "id": "6e32c038-53fe-434b-a601-d70f029afa1f",
   "metadata": {},
   "outputs": [
    {
     "name": "stdin",
     "output_type": "stream",
     "text": [
      "enter data 1\n",
      "enter data 89\n",
      "enter data 45\n",
      "enter data fdas\n",
      "enter data qwwee\n",
      "enter data 1222\n",
      "enter data 212\n",
      "enter data ss\n",
      "enter data 89\n",
      "enter data fgf\n"
     ]
    }
   ],
   "source": [
    "list2=[]\n",
    "while len(list2)<10:\n",
    "    list2.append(input(\"enter data\"))"
   ]
  },
  {
   "cell_type": "code",
   "execution_count": 11,
   "id": "0c5b52ac-2469-4f03-b4e6-9a502f82d190",
   "metadata": {},
   "outputs": [
    {
     "data": {
      "text/plain": [
       "['1', '89', '45', 'fdas', 'qwwee', '1222', '212', 'ss', '89', 'fgf']"
      ]
     },
     "execution_count": 11,
     "metadata": {},
     "output_type": "execute_result"
    }
   ],
   "source": [
    "list2"
   ]
  },
  {
   "cell_type": "code",
   "execution_count": 23,
   "id": "c0019fcb-5ea8-4beb-a707-e8e6bdb11111",
   "metadata": {},
   "outputs": [
    {
     "name": "stdin",
     "output_type": "stream",
     "text": [
      "enter data 3\n",
      "enter data 6\n",
      "enter data 7\n",
      "enter data 2\n",
      "enter data d\n",
      "enter data h\n",
      "enter data w\n",
      "enter data i\n",
      "enter data p\n",
      "enter data s\n",
      "enter data q\n"
     ]
    }
   ],
   "source": [
    "list3=[]\n",
    "value=input(\"enter data\")\n",
    "while value!='q' :\n",
    "    list3.append(value)\n",
    "    value=input(\"enter data\")\n"
   ]
  },
  {
   "cell_type": "code",
   "execution_count": 24,
   "id": "0ce31262-f3b7-4c4a-a838-21c635cbd189",
   "metadata": {},
   "outputs": [
    {
     "data": {
      "text/plain": [
       "['3', '6', '7', '2', 'd', 'h', 'w', 'i', 'p', 's']"
      ]
     },
     "execution_count": 24,
     "metadata": {},
     "output_type": "execute_result"
    }
   ],
   "source": [
    "list3"
   ]
  },
  {
   "cell_type": "code",
   "execution_count": 39,
   "id": "60aa60c4-d0f4-4105-80c3-974d7fc518db",
   "metadata": {},
   "outputs": [
    {
     "name": "stdin",
     "output_type": "stream",
     "text": [
      "enter an integer 7\n",
      "enter an integer 9\n",
      "enter an integer 23\n",
      "enter an integer 67\n"
     ]
    }
   ],
   "source": [
    "list4=[]\n",
    "sum=0\n",
    "while sum <100:\n",
    "    value=int(input(\"enter an integer\"))\n",
    "    sum=sum+value\n",
    "    list4.append(value)\n",
    "    \n",
    "    "
   ]
  },
  {
   "cell_type": "code",
   "execution_count": 40,
   "id": "5be4232c-11c5-4b94-9d05-4b4b9e03c6b3",
   "metadata": {},
   "outputs": [
    {
     "data": {
      "text/plain": [
       "[7, 9, 23, 67]"
      ]
     },
     "execution_count": 40,
     "metadata": {},
     "output_type": "execute_result"
    }
   ],
   "source": [
    "list4"
   ]
  },
  {
   "cell_type": "code",
   "execution_count": 41,
   "id": "551e81ab-63bf-4c00-8fb5-7e658ff714ec",
   "metadata": {},
   "outputs": [
    {
     "data": {
      "text/plain": [
       "106"
      ]
     },
     "execution_count": 41,
     "metadata": {},
     "output_type": "execute_result"
    }
   ],
   "source": [
    "sum"
   ]
  },
  {
   "cell_type": "code",
   "execution_count": 44,
   "id": "09045b71-2d0d-4f24-9263-a31f42730965",
   "metadata": {},
   "outputs": [
    {
     "name": "stdin",
     "output_type": "stream",
     "text": [
      "enter an integer 56\n",
      "enter an integer 34\n",
      "enter an integer 12\n"
     ]
    }
   ],
   "source": [
    "list4=[]\n",
    "value=int(input(\"enter an integer\"))\n",
    "sum=0\n",
    "while True:\n",
    "    sum=sum+value\n",
    "    list4.append(value)\n",
    "    if(sum>100):\n",
    "        break\n",
    "    value=int(input(\"enter an integer\"))"
   ]
  },
  {
   "cell_type": "code",
   "execution_count": 45,
   "id": "fca34890-fb0a-49d6-a506-cba35f9a3c9b",
   "metadata": {},
   "outputs": [
    {
     "data": {
      "text/plain": [
       "[56, 34, 12]"
      ]
     },
     "execution_count": 45,
     "metadata": {},
     "output_type": "execute_result"
    }
   ],
   "source": [
    "list4"
   ]
  },
  {
   "cell_type": "code",
   "execution_count": 46,
   "id": "577b4a53-8771-4a68-807a-1e452cd3d29f",
   "metadata": {},
   "outputs": [
    {
     "data": {
      "text/plain": [
       "102"
      ]
     },
     "execution_count": 46,
     "metadata": {},
     "output_type": "execute_result"
    }
   ],
   "source": [
    "sum"
   ]
  },
  {
   "cell_type": "code",
   "execution_count": null,
   "id": "bfa62a42-87f8-4778-8293-955338c04d60",
   "metadata": {},
   "outputs": [
    {
     "name": "stdin",
     "output_type": "stream",
     "text": [
      "enter a number 10\n"
     ]
    },
    {
     "name": "stdout",
     "output_type": "stream",
     "text": [
      "10\n"
     ]
    },
    {
     "name": "stdin",
     "output_type": "stream",
     "text": [
      "enter a number 10\n"
     ]
    },
    {
     "name": "stdout",
     "output_type": "stream",
     "text": [
      "20\n"
     ]
    },
    {
     "name": "stdin",
     "output_type": "stream",
     "text": [
      "enter a number 10\n"
     ]
    },
    {
     "name": "stdout",
     "output_type": "stream",
     "text": [
      "30\n"
     ]
    },
    {
     "name": "stdin",
     "output_type": "stream",
     "text": [
      "enter a number 10\n"
     ]
    },
    {
     "name": "stdout",
     "output_type": "stream",
     "text": [
      "40\n"
     ]
    },
    {
     "name": "stdin",
     "output_type": "stream",
     "text": [
      "enter a number 50\n"
     ]
    },
    {
     "name": "stdout",
     "output_type": "stream",
     "text": [
      "90\n"
     ]
    },
    {
     "name": "stdin",
     "output_type": "stream",
     "text": [
      "enter a number 10\n",
      "enter a number 10\n"
     ]
    },
    {
     "name": "stdout",
     "output_type": "stream",
     "text": [
      "110\n"
     ]
    },
    {
     "name": "stdin",
     "output_type": "stream",
     "text": [
      "enter a number 10\n"
     ]
    },
    {
     "name": "stdout",
     "output_type": "stream",
     "text": [
      "120\n"
     ]
    },
    {
     "name": "stdin",
     "output_type": "stream",
     "text": [
      "enter a number 45\n"
     ]
    },
    {
     "name": "stdout",
     "output_type": "stream",
     "text": [
      "165\n"
     ]
    }
   ],
   "source": [
    "\n",
    "value=int(input(\"enter a number\"))\n",
    "sum=0\n",
    "while True:\n",
    "    sum=sum+value\n",
    "    if sum==100:\n",
    "        value=int(input(\"enter a number\"))\n",
    "        continue\n",
    "    print(sum)\n",
    "    value=int(input(\"enter a number\"))\n",
    "    "
   ]
  },
  {
   "cell_type": "code",
   "execution_count": 17,
   "id": "ae957631-1a73-4cad-9361-ae4ed6b28c1d",
   "metadata": {},
   "outputs": [
    {
     "name": "stdout",
     "output_type": "stream",
     "text": [
      "0\n",
      "1\n",
      "2\n",
      "3\n",
      "4\n",
      "5\n",
      "6\n",
      "7\n",
      "8\n",
      "9\n",
      "10\n",
      "11\n",
      "12\n",
      "13\n",
      "14\n",
      "15\n",
      "16\n",
      "17\n",
      "18\n",
      "19\n",
      "20\n",
      "21\n",
      "22\n",
      "23\n",
      "24\n",
      "25\n",
      "26\n",
      "27\n",
      "28\n",
      "29\n",
      "30\n",
      "31\n",
      "32\n",
      "34\n",
      "35\n",
      "36\n",
      "37\n",
      "38\n",
      "39\n",
      "40\n",
      "41\n",
      "42\n",
      "43\n",
      "44\n",
      "45\n",
      "46\n",
      "47\n",
      "48\n",
      "49\n"
     ]
    }
   ],
   "source": [
    "list6=range(0,50)\n",
    "i=0\n",
    "while i<len(list6):\n",
    "    if i==33:\n",
    "        i=i+1\n",
    "        continue\n",
    "    print(i)\n",
    "    i=i+1\n",
    "    "
   ]
  },
  {
   "cell_type": "code",
   "execution_count": 6,
   "id": "71a38b8a-808b-4df0-92ec-058559c68688",
   "metadata": {},
   "outputs": [
    {
     "name": "stdout",
     "output_type": "stream",
     "text": [
      "99\n",
      "98\n",
      "97\n",
      "96\n",
      "95\n",
      "94\n",
      "93\n",
      "92\n",
      "91\n",
      "90\n",
      "89\n",
      "88\n",
      "87\n",
      "86\n",
      "85\n",
      "84\n",
      "83\n",
      "82\n",
      "81\n",
      "80\n",
      "79\n",
      "78\n",
      "77\n",
      "76\n",
      "75\n",
      "74\n",
      "73\n",
      "72\n",
      "71\n",
      "70\n",
      "69\n",
      "68\n",
      "67\n",
      "66\n",
      "65\n",
      "64\n",
      "63\n",
      "62\n",
      "61\n",
      "60\n",
      "59\n",
      "58\n",
      "57\n",
      "56\n",
      "55\n",
      "54\n",
      "53\n",
      "52\n",
      "51\n",
      "50\n",
      "49\n",
      "48\n",
      "47\n",
      "46\n",
      "45\n",
      "44\n",
      "43\n",
      "42\n",
      "41\n",
      "40\n",
      "39\n",
      "38\n",
      "37\n",
      "36\n",
      "35\n",
      "34\n",
      "33\n",
      "32\n",
      "31\n",
      "30\n",
      "29\n",
      "28\n",
      "27\n",
      "26\n",
      "24\n",
      "23\n",
      "22\n",
      "21\n",
      "20\n",
      "19\n",
      "18\n",
      "17\n",
      "16\n",
      "15\n",
      "14\n",
      "13\n",
      "12\n",
      "11\n",
      "10\n"
     ]
    }
   ],
   "source": [
    "list6=range(10,100)\n",
    "i=len(list6)-1\n",
    "while i>=0:\n",
    "    if i==15:\n",
    "        i=i-1\n",
    "        continue\n",
    "    print(list6[i])\n",
    "    i=i-1"
   ]
  },
  {
   "cell_type": "code",
   "execution_count": 12,
   "id": "ecd98af6-9385-4cab-9a80-975456a2e6d7",
   "metadata": {},
   "outputs": [
    {
     "data": {
      "text/plain": [
       "0"
      ]
     },
     "execution_count": 12,
     "metadata": {},
     "output_type": "execute_result"
    }
   ],
   "source": [
    "value=int(input(\"enter a number\"))\n",
    "sum=0\n",
    "while sum<100:\n",
    "    if value==0:\n",
    "       break\n",
    "    sum=sum+value\n",
    "    value=int(input(\"enter a number\"))\n",
    "sum     "
   ]
  },
  {
   "cell_type": "code",
   "execution_count": 19,
   "id": "9d8dd76f-0418-48f6-b8fe-4c65b65f6b3e",
   "metadata": {},
   "outputs": [
    {
     "name": "stdin",
     "output_type": "stream",
     "text": [
      "enter a number 44\n",
      "enter a number 33\n",
      "enter a number 33\n",
      "enter a number 33\n"
     ]
    },
    {
     "data": {
      "text/plain": [
       "110"
      ]
     },
     "execution_count": 19,
     "metadata": {},
     "output_type": "execute_result"
    }
   ],
   "source": [
    "i=int(input(\"enter a number\"))\n",
    "sum=0\n",
    "while sum<100:\n",
    "    if i==0:\n",
    "       break\n",
    "    sum=sum+i\n",
    "    i=int(input(\"enter a number\"))\n",
    "sum\n"
   ]
  },
  {
   "cell_type": "code",
   "execution_count": null,
   "id": "5bf0f118-a311-478a-b7ec-1e9185813016",
   "metadata": {},
   "outputs": [],
   "source": []
  }
 ],
 "metadata": {
  "kernelspec": {
   "display_name": "Python 3 (ipykernel)",
   "language": "python",
   "name": "python3"
  },
  "language_info": {
   "codemirror_mode": {
    "name": "ipython",
    "version": 3
   },
   "file_extension": ".py",
   "mimetype": "text/x-python",
   "name": "python",
   "nbconvert_exporter": "python",
   "pygments_lexer": "ipython3",
   "version": "3.11.7"
  }
 },
 "nbformat": 4,
 "nbformat_minor": 5
}
