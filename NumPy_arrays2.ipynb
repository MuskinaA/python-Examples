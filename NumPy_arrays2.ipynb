{
 "cells": [
  {
   "cell_type": "code",
   "execution_count": 1,
   "id": "3178bfc4-128d-469d-aacd-14acecfd5729",
   "metadata": {},
   "outputs": [],
   "source": [
    "import numpy as np"
   ]
  },
  {
   "cell_type": "code",
   "execution_count": 7,
   "id": "4c33ecd7-f16a-4ab1-8e57-51644eb29812",
   "metadata": {},
   "outputs": [],
   "source": [
    "a=np.random.randint(1,1000,100)"
   ]
  },
  {
   "cell_type": "code",
   "execution_count": 8,
   "id": "583dcf89-d02c-44c0-9e29-638362aa4b7d",
   "metadata": {},
   "outputs": [
    {
     "data": {
      "text/plain": [
       "array([115, 525, 825, 917,  76,  51, 203, 558, 925, 200, 695, 297, 348,\n",
       "       778, 237, 407,  23, 748, 197, 366, 411, 783,  33, 727, 154, 252,\n",
       "       244, 729, 609, 496, 580, 688, 565, 732, 889, 426, 174, 358, 802,\n",
       "       523, 591, 100,  83, 153, 120, 790, 265, 964, 647, 930, 523, 107,\n",
       "       110, 659, 636, 237, 589, 533, 565, 986, 752, 391,  87, 597,  66,\n",
       "       880, 429, 118, 609, 845,  80, 673, 732,  53, 761,  67, 339, 902,\n",
       "       748, 820, 700,   3, 356, 609, 833, 839, 904, 191, 151, 982, 586,\n",
       "       488,  25, 871, 429, 484,  98, 761, 885, 157])"
      ]
     },
     "execution_count": 8,
     "metadata": {},
     "output_type": "execute_result"
    }
   ],
   "source": [
    "a"
   ]
  },
  {
   "cell_type": "code",
   "execution_count": 9,
   "id": "9bbae038-6431-4f7f-8e10-fd289b5dedba",
   "metadata": {},
   "outputs": [],
   "source": [
    "a.shape=(4,5,5)"
   ]
  },
  {
   "cell_type": "code",
   "execution_count": 10,
   "id": "6e2cdd96-d432-423d-9831-7e3a6bcb0094",
   "metadata": {},
   "outputs": [
    {
     "data": {
      "text/plain": [
       "array([[[115, 525, 825, 917,  76],\n",
       "        [ 51, 203, 558, 925, 200],\n",
       "        [695, 297, 348, 778, 237],\n",
       "        [407,  23, 748, 197, 366],\n",
       "        [411, 783,  33, 727, 154]],\n",
       "\n",
       "       [[252, 244, 729, 609, 496],\n",
       "        [580, 688, 565, 732, 889],\n",
       "        [426, 174, 358, 802, 523],\n",
       "        [591, 100,  83, 153, 120],\n",
       "        [790, 265, 964, 647, 930]],\n",
       "\n",
       "       [[523, 107, 110, 659, 636],\n",
       "        [237, 589, 533, 565, 986],\n",
       "        [752, 391,  87, 597,  66],\n",
       "        [880, 429, 118, 609, 845],\n",
       "        [ 80, 673, 732,  53, 761]],\n",
       "\n",
       "       [[ 67, 339, 902, 748, 820],\n",
       "        [700,   3, 356, 609, 833],\n",
       "        [839, 904, 191, 151, 982],\n",
       "        [586, 488,  25, 871, 429],\n",
       "        [484,  98, 761, 885, 157]]])"
      ]
     },
     "execution_count": 10,
     "metadata": {},
     "output_type": "execute_result"
    }
   ],
   "source": [
    "a"
   ]
  },
  {
   "cell_type": "code",
   "execution_count": 11,
   "id": "77128e6d-1d2e-41b0-901a-10925732cc49",
   "metadata": {},
   "outputs": [
    {
     "data": {
      "text/plain": [
       "174"
      ]
     },
     "execution_count": 11,
     "metadata": {},
     "output_type": "execute_result"
    }
   ],
   "source": [
    "a[1,2,1]"
   ]
  },
  {
   "cell_type": "code",
   "execution_count": 12,
   "id": "43c6d981-3c4d-4a0f-8c8c-143e53bebc37",
   "metadata": {},
   "outputs": [
    {
     "data": {
      "text/plain": [
       "115"
      ]
     },
     "execution_count": 12,
     "metadata": {},
     "output_type": "execute_result"
    }
   ],
   "source": [
    "a[0,0,0]"
   ]
  },
  {
   "cell_type": "code",
   "execution_count": 13,
   "id": "3ecee9dc-8fd6-4160-abee-8a23ffa3e267",
   "metadata": {},
   "outputs": [
    {
     "data": {
      "text/plain": [
       "array([752, 391,  87, 597,  66])"
      ]
     },
     "execution_count": 13,
     "metadata": {},
     "output_type": "execute_result"
    }
   ],
   "source": [
    "a[2,2,:]"
   ]
  },
  {
   "cell_type": "code",
   "execution_count": 14,
   "id": "96b2f804-bdd9-497f-acb0-bc5a5c349c68",
   "metadata": {},
   "outputs": [
    {
     "data": {
      "text/plain": [
       "array([[752, 391,  87, 597,  66],\n",
       "       [880, 429, 118, 609, 845],\n",
       "       [ 80, 673, 732,  53, 761]])"
      ]
     },
     "execution_count": 14,
     "metadata": {},
     "output_type": "execute_result"
    }
   ],
   "source": [
    "a[2,2:,:]"
   ]
  },
  {
   "cell_type": "code",
   "execution_count": 15,
   "id": "ee41535b-3577-411c-9c8b-2858ba8a23ae",
   "metadata": {},
   "outputs": [
    {
     "data": {
      "text/plain": [
       "array([[729, 609],\n",
       "       [565, 732],\n",
       "       [358, 802],\n",
       "       [ 83, 153],\n",
       "       [964, 647]])"
      ]
     },
     "execution_count": 15,
     "metadata": {},
     "output_type": "execute_result"
    }
   ],
   "source": [
    "a[1,0:,2:4]"
   ]
  },
  {
   "cell_type": "code",
   "execution_count": 16,
   "id": "ffa812be-6ca6-46a8-88dc-0ef670531892",
   "metadata": {},
   "outputs": [
    {
     "data": {
      "text/plain": [
       "array([[107, 659],\n",
       "       [589, 565],\n",
       "       [391, 597],\n",
       "       [429, 609],\n",
       "       [673,  53]])"
      ]
     },
     "execution_count": 16,
     "metadata": {},
     "output_type": "execute_result"
    }
   ],
   "source": [
    "a[2,0:,1:4:2]"
   ]
  },
  {
   "cell_type": "code",
   "execution_count": 17,
   "id": "c63a1335-6bf7-44d9-8629-cde27331cb8f",
   "metadata": {},
   "outputs": [
    {
     "data": {
      "text/plain": [
       "array([ 1.        ,  1.47368421,  1.94736842,  2.42105263,  2.89473684,\n",
       "        3.36842105,  3.84210526,  4.31578947,  4.78947368,  5.26315789,\n",
       "        5.73684211,  6.21052632,  6.68421053,  7.15789474,  7.63157895,\n",
       "        8.10526316,  8.57894737,  9.05263158,  9.52631579, 10.        ])"
      ]
     },
     "execution_count": 17,
     "metadata": {},
     "output_type": "execute_result"
    }
   ],
   "source": [
    "np.linspace(1,10,20)"
   ]
  },
  {
   "cell_type": "code",
   "execution_count": 21,
   "id": "cd9a2449-600e-45e0-8103-b5d165c9f215",
   "metadata": {},
   "outputs": [
    {
     "data": {
      "text/plain": [
       "0.7327004034922296"
      ]
     },
     "execution_count": 21,
     "metadata": {},
     "output_type": "execute_result"
    }
   ],
   "source": [
    "np.random.rand()"
   ]
  },
  {
   "cell_type": "code",
   "execution_count": 22,
   "id": "9789db3f-cad7-4f28-9db4-439e885af761",
   "metadata": {},
   "outputs": [
    {
     "data": {
      "text/plain": [
       "array([0.05711565, 0.12910274, 0.48715005, 0.58341746, 0.40712364,\n",
       "       0.649394  ])"
      ]
     },
     "execution_count": 22,
     "metadata": {},
     "output_type": "execute_result"
    }
   ],
   "source": [
    "np.random.rand(6)"
   ]
  },
  {
   "cell_type": "code",
   "execution_count": 24,
   "id": "6a6c2080-ff1e-4cf1-b0e6-786d8b107a72",
   "metadata": {},
   "outputs": [
    {
     "data": {
      "text/plain": [
       "0.21711033900168947"
      ]
     },
     "execution_count": 24,
     "metadata": {},
     "output_type": "execute_result"
    }
   ],
   "source": [
    "np.random.randn()"
   ]
  },
  {
   "cell_type": "code",
   "execution_count": 25,
   "id": "18892fdd-caa2-42aa-ab89-6eeee49a7411",
   "metadata": {},
   "outputs": [
    {
     "data": {
      "text/plain": [
       "array([ 0.05825683,  1.81102465,  0.22783502,  1.44840121,  0.32588381,\n",
       "       -0.86864707,  0.16072938, -0.18905891,  0.76433648, -1.6751703 ])"
      ]
     },
     "execution_count": 25,
     "metadata": {},
     "output_type": "execute_result"
    }
   ],
   "source": [
    "np.random.randn(10)"
   ]
  },
  {
   "cell_type": "code",
   "execution_count": 3,
   "id": "56147f19-4ca8-4e1b-a4e5-a4150bc66a79",
   "metadata": {},
   "outputs": [
    {
     "ename": "NameError",
     "evalue": "name 'np' is not defined",
     "output_type": "error",
     "traceback": [
      "\u001b[1;31m---------------------------------------------------------------------------\u001b[0m",
      "\u001b[1;31mNameError\u001b[0m                                 Traceback (most recent call last)",
      "Cell \u001b[1;32mIn[3], line 1\u001b[0m\n\u001b[1;32m----> 1\u001b[0m np\u001b[38;5;241m.\u001b[39mzeros(\u001b[38;5;241m10\u001b[39m)\n",
      "\u001b[1;31mNameError\u001b[0m: name 'np' is not defined"
     ]
    }
   ],
   "source": [
    "np.zeros(10)"
   ]
  },
  {
   "cell_type": "code",
   "execution_count": null,
   "id": "c91005b6-0093-4c27-a50a-8b8aebfcd871",
   "metadata": {},
   "outputs": [],
   "source": []
  }
 ],
 "metadata": {
  "kernelspec": {
   "display_name": "Python 3 (ipykernel)",
   "language": "python",
   "name": "python3"
  },
  "language_info": {
   "codemirror_mode": {
    "name": "ipython",
    "version": 3
   },
   "file_extension": ".py",
   "mimetype": "text/x-python",
   "name": "python",
   "nbconvert_exporter": "python",
   "pygments_lexer": "ipython3",
   "version": "3.11.7"
  }
 },
 "nbformat": 4,
 "nbformat_minor": 5
}
