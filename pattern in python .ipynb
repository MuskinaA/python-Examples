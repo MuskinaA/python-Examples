{
 "cells": [
  {
   "cell_type": "code",
   "execution_count": 2,
   "id": "9ae4c6de-78c2-4681-8a73-ddbbc69fe75e",
   "metadata": {},
   "outputs": [
    {
     "name": "stdout",
     "output_type": "stream",
     "text": [
      " * \n",
      " *  * \n",
      " *  *  * \n",
      " *  *  *  * \n",
      " *  *  *  *  * \n",
      " *  *  *  *  *  * \n",
      " *  *  *  *  *  *  * \n",
      " *  *  *  *  *  *  *  * \n",
      " *  *  *  *  *  *  *  *  * \n"
     ]
    }
   ],
   "source": [
    "for  value in range(1,10):\n",
    "    print(\" * \"*value)"
   ]
  },
  {
   "cell_type": "code",
   "execution_count": 4,
   "id": "6f67ae44-7874-480b-bf4d-f9a387ad3823",
   "metadata": {},
   "outputs": [
    {
     "name": "stdout",
     "output_type": "stream",
     "text": [
      " * \n",
      " *  * \n",
      " *  *  * \n",
      " *  *  *  * \n",
      " *  *  *  *  * \n",
      " *  *  *  *  *  * \n",
      " *  *  *  *  *  *  * \n",
      " *  *  *  *  *  *  *  * \n",
      " *  *  *  *  *  *  *  *  * \n"
     ]
    }
   ],
   "source": [
    "for row in range(1,10):\n",
    "    for col in range(0,row):\n",
    "        print(' * ',end=\"\")\n",
    "    print(\"\")"
   ]
  },
  {
   "cell_type": "code",
   "execution_count": 6,
   "id": "c671ca42-6936-4821-bfee-8beef0877ad9",
   "metadata": {},
   "outputs": [
    {
     "name": "stdout",
     "output_type": "stream",
     "text": [
      " * \n",
      " *  * \n",
      " *  *  * \n",
      " *  *  *  * \n",
      " *  *  *  *  * \n",
      " *  *  *  *  *  * \n",
      " *  *  *  *  *  *  * \n",
      " *  *  *  *  *  *  *  * \n",
      " *  *  *  *  *  *  *  *  * \n"
     ]
    }
   ],
   "source": [
    "row=1\n",
    "while row<10:\n",
    "    col=0\n",
    "    while col<row:\n",
    "        print(' * ',end=\"\")\n",
    "        col=col+1\n",
    "    print(\"\") \n",
    "    row=row+1\n",
    "    "
   ]
  },
  {
   "cell_type": "code",
   "execution_count": 14,
   "id": "f3da503f-b25d-4678-95e4-a8e1413c22e7",
   "metadata": {},
   "outputs": [
    {
     "name": "stdout",
     "output_type": "stream",
     "text": [
      " * \n",
      " *  *  * \n",
      " *  *  *  *  * \n",
      " *  *  *  *  *  *  * \n",
      " *  *  *  *  *  *  *  *  * \n"
     ]
    }
   ],
   "source": [
    "row=1\n",
    "while row<10:\n",
    "    col=0\n",
    "    while col<row:\n",
    "        print(' * ',end=\"\")\n",
    "        col=col+1\n",
    "    print(\"\") \n",
    "    row=row+2"
   ]
  },
  {
   "cell_type": "code",
   "execution_count": 2,
   "id": "29e528c0-9769-4687-8528-6b733f9ef519",
   "metadata": {},
   "outputs": [
    {
     "name": "stdout",
     "output_type": "stream",
     "text": [
      "          * \n",
      "         *  * \n",
      "        *  *  * \n",
      "       *  *  *  * \n",
      "      *  *  *  *  * \n",
      "     *  *  *  *  *  * \n",
      "    *  *  *  *  *  *  * \n",
      "   *  *  *  *  *  *  *  * \n",
      "  *  *  *  *  *  *  *  *  * \n"
     ]
    }
   ],
   "source": [
    "for row in range(1,10):\n",
    "        for j in range(10,row,-1):\n",
    "            print(\" \",end=\"\")\n",
    "        for col in range(0,row):\n",
    "            print(\" * \",end='')\n",
    "        print(\"\")"
   ]
  },
  {
   "cell_type": "code",
   "execution_count": 3,
   "id": "4633b0dc-4045-490d-b322-56492eb14277",
   "metadata": {},
   "outputs": [
    {
     "name": "stdout",
     "output_type": "stream",
     "text": [
      "         *\n",
      "        ***\n",
      "       *****\n",
      "      *******\n",
      "     *********\n",
      "    ***********\n",
      "   *************\n",
      "  ***************\n",
      " *****************\n"
     ]
    }
   ],
   "source": [
    "for row in range(1,10):\n",
    "        for j in range(10,row,-1):\n",
    "            print(\" \",end=\"\")\n",
    "        for col in range(0,2*row-1):\n",
    "            print(\"*\",end='')\n",
    "        print(\"\")"
   ]
  },
  {
   "cell_type": "code",
   "execution_count": 2,
   "id": "29877919-60a6-4ccc-acb8-96c3b9490f30",
   "metadata": {},
   "outputs": [
    {
     "name": "stdout",
     "output_type": "stream",
     "text": [
      "         *\n",
      "        ***\n",
      "       *****\n",
      "      *******\n",
      "     *********\n",
      "    ***********\n",
      "   *************\n",
      "  ***************\n",
      " *****************\n"
     ]
    }
   ],
   "source": [
    "row=1\n",
    "while row<10:\n",
    "    j=10\n",
    "    while j>row:\n",
    "        print(\" \",end=\"\")\n",
    "        j=j-1\n",
    "    col=0\n",
    "    while col<2*row-1:\n",
    "        print(\"*\",end=\"\")\n",
    "        col=col+1\n",
    "    print(\"\")\n",
    "    row=row+1"
   ]
  },
  {
   "cell_type": "code",
   "execution_count": 17,
   "id": "987141cc-50d6-45e4-8196-b8c370989884",
   "metadata": {},
   "outputs": [
    {
     "name": "stdout",
     "output_type": "stream",
     "text": [
      "    *\n",
      "   ***\n",
      "  *****\n",
      " *******\n"
     ]
    }
   ],
   "source": [
    "row=1\n",
    "while row<5:\n",
    "    j=5\n",
    "    while j>row:\n",
    "        print(\" \",end=\"\")\n",
    "        j=j-1\n",
    "    col=0\n",
    "    while col<2*row-1:\n",
    "        print(\"*\",end=\"\")\n",
    "        col=col+1\n",
    "    print(\"\")\n",
    "    row=row+1"
   ]
  },
  {
   "cell_type": "code",
   "execution_count": 18,
   "id": "8c1ce019-8002-4267-8762-42c97edebfc3",
   "metadata": {},
   "outputs": [
    {
     "name": "stdout",
     "output_type": "stream",
     "text": [
      " ******\n",
      "  *****\n",
      "   ****\n",
      "    ***\n",
      "     **\n",
      "      *\n"
     ]
    }
   ],
   "source": [
    "row=1\n",
    "while row<7:\n",
    "    j=0\n",
    "    while j<row:\n",
    "        print(\" \",end='')\n",
    "        j=j+1\n",
    "    col=7\n",
    "    while col>row:\n",
    "        print('*',end='')\n",
    "        col=col-1\n",
    "    print(\"\")\n",
    "    row=row+1\n",
    "        \n",
    "    "
   ]
  },
  {
   "cell_type": "code",
   "execution_count": 20,
   "id": "a04d4c46-9e83-4e1f-9e0a-024b3c974a53",
   "metadata": {},
   "outputs": [
    {
     "name": "stdout",
     "output_type": "stream",
     "text": [
      " *****\n",
      "  ***\n",
      "   *\n",
      "    \n",
      "     \n",
      "      \n"
     ]
    }
   ],
   "source": [
    "row=1\n",
    "while row<7:\n",
    "    j=0\n",
    "    while j<row:\n",
    "        print(\" \",end='')\n",
    "        j=j+1\n",
    "    col=6\n",
    "    while col>2*row-1:\n",
    "        print('*',end='')\n",
    "        col=col-1\n",
    "    print(\"\")\n",
    "    row=row+1"
   ]
  },
  {
   "cell_type": "code",
   "execution_count": 25,
   "id": "3dab972e-33a0-4253-ae20-9aa8e8aeec2a",
   "metadata": {},
   "outputs": [
    {
     "name": "stdout",
     "output_type": "stream",
     "text": [
      " * \n",
      " *  * \n",
      " *  *  * \n",
      " *  *  *  * \n",
      " *  *  *  *  * \n",
      " *  *  *  *  *  * \n"
     ]
    }
   ],
   "source": [
    "row=1\n",
    "while row<7:\n",
    "    col=0\n",
    "    while col<row:\n",
    "        print(' * ',end=\"\")\n",
    "        col=col+1\n",
    "    print(\"\") \n",
    "    row=row+1"
   ]
  },
  {
   "cell_type": "code",
   "execution_count": 26,
   "id": "fc56ee69-741f-4f9c-8ab5-1a1ab99725d6",
   "metadata": {},
   "outputs": [
    {
     "name": "stdout",
     "output_type": "stream",
     "text": [
      " * \n",
      " *  * \n",
      " *  *  * \n",
      " *  *  *  * \n",
      " *  *  *  *  * \n",
      " *  *  *  *  *  * \n"
     ]
    }
   ],
   "source": [
    "row=1\n",
    "while row<7:\n",
    "    col=0\n",
    "    while col<row:\n",
    "        \n",
    "            \n",
    "        \n",
    "        print(' * ',end=\"\")\n",
    "        col=col+1\n",
    "    print(\"\") \n",
    "    row=row+1"
   ]
  },
  {
   "cell_type": "code",
   "execution_count": null,
   "id": "537717da-5cc8-4a1d-94c9-488acdc1ab51",
   "metadata": {},
   "outputs": [],
   "source": []
  }
 ],
 "metadata": {
  "kernelspec": {
   "display_name": "Python 3 (ipykernel)",
   "language": "python",
   "name": "python3"
  },
  "language_info": {
   "codemirror_mode": {
    "name": "ipython",
    "version": 3
   },
   "file_extension": ".py",
   "mimetype": "text/x-python",
   "name": "python",
   "nbconvert_exporter": "python",
   "pygments_lexer": "ipython3",
   "version": "3.11.7"
  }
 },
 "nbformat": 4,
 "nbformat_minor": 5
}
