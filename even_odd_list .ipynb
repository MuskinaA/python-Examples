{
 "cells": [
  {
   "cell_type": "code",
   "execution_count": 96,
   "id": "dc38d5e0-c1cc-4559-990a-20a04a778d30",
   "metadata": {},
   "outputs": [
    {
     "name": "stdout",
     "output_type": "stream",
     "text": [
      "757\n"
     ]
    }
   ],
   "source": [
    "list1=[1,2,3,22,32,54,34,543,56,6,4]\n",
    "sum=0\n",
    "for i in list1:\n",
    "    sum=sum+i\n",
    "print(sum)    \n",
    "    "
   ]
  },
  {
   "cell_type": "code",
   "execution_count": 99,
   "id": "85eed30c-5fe7-4f58-9ca3-42f200a67aac",
   "metadata": {},
   "outputs": [
    {
     "name": "stdout",
     "output_type": "stream",
     "text": [
      "757\n"
     ]
    }
   ],
   "source": [
    "list1=[1,2,3,22,32,54,34,543,56,6,4]\n",
    "sum=0\n",
    "for i in range(0,len(list1)):\n",
    "    sum=sum+list1[i]\n",
    "print(sum)"
   ]
  },
  {
   "cell_type": "code",
   "execution_count": 100,
   "id": "91dfe30b-2905-49cf-a094-0701b26a0344",
   "metadata": {},
   "outputs": [],
   "source": [
    "def sum1():\n",
    "    list1=[1,2,3,22,32,54,34,543,56,6,4]\n",
    "    sum=0\n",
    "    for i in range(0,len(list1)):\n",
    "        sum=sum+list1[i]\n",
    "    print(sum)\n",
    "    "
   ]
  },
  {
   "cell_type": "code",
   "execution_count": 101,
   "id": "8b7fb205-b046-487b-9c3e-76b9c5490c05",
   "metadata": {},
   "outputs": [
    {
     "name": "stdout",
     "output_type": "stream",
     "text": [
      "757\n"
     ]
    }
   ],
   "source": [
    "sum1()"
   ]
  },
  {
   "cell_type": "code",
   "execution_count": 102,
   "id": "b85f7c8b-848e-44d1-8e94-231c1b6726de",
   "metadata": {},
   "outputs": [
    {
     "name": "stdout",
     "output_type": "stream",
     "text": [
      "757\n"
     ]
    }
   ],
   "source": [
    "a=sum1()"
   ]
  },
  {
   "cell_type": "code",
   "execution_count": 103,
   "id": "9adca9fa-28d9-4e4c-b0fc-7253410c1cfe",
   "metadata": {},
   "outputs": [],
   "source": [
    "a"
   ]
  },
  {
   "cell_type": "code",
   "execution_count": 104,
   "id": "0bbf911c-2597-4383-ba02-6a3fe2d37850",
   "metadata": {},
   "outputs": [],
   "source": [
    "def sum2():\n",
    "    list1=[1,2,3,22,32,54,34,543,56,6,4]\n",
    "    sum=0\n",
    "    for i in range(0,len(list1)):\n",
    "        sum=sum+list1[i]\n",
    "    return sum"
   ]
  },
  {
   "cell_type": "code",
   "execution_count": 105,
   "id": "4bb74293-ec85-49b7-ba08-a8c5aa4f3c68",
   "metadata": {},
   "outputs": [
    {
     "data": {
      "text/plain": [
       "757"
      ]
     },
     "execution_count": 105,
     "metadata": {},
     "output_type": "execute_result"
    }
   ],
   "source": [
    "sum2()"
   ]
  },
  {
   "cell_type": "code",
   "execution_count": 106,
   "id": "55e967de-1b47-42fc-8484-b2194fa5d542",
   "metadata": {},
   "outputs": [],
   "source": [
    "b=sum2()"
   ]
  },
  {
   "cell_type": "code",
   "execution_count": 107,
   "id": "4a1396f6-c022-4740-8143-6dbf3bb602a1",
   "metadata": {},
   "outputs": [
    {
     "data": {
      "text/plain": [
       "757"
      ]
     },
     "execution_count": 107,
     "metadata": {},
     "output_type": "execute_result"
    }
   ],
   "source": [
    "b"
   ]
  },
  {
   "cell_type": "code",
   "execution_count": 108,
   "id": "424529d4-f7a1-4655-bfbd-4ea7a9e7911d",
   "metadata": {},
   "outputs": [],
   "source": [
    "def sum3(list1):\n",
    "    sum=0\n",
    "    for i in range(0,len(list1)):\n",
    "        sum=sum+list1[i]\n",
    "    return sum"
   ]
  },
  {
   "cell_type": "code",
   "execution_count": 110,
   "id": "4407cdc8-cb79-42ef-b61b-0ced24f799c2",
   "metadata": {},
   "outputs": [],
   "source": [
    "list2=[1,2,3,22,32,54,34,543,56,6,4]"
   ]
  },
  {
   "cell_type": "code",
   "execution_count": 111,
   "id": "6f016215-eb0d-4a94-8340-35fd9056b83b",
   "metadata": {},
   "outputs": [
    {
     "data": {
      "text/plain": [
       "757"
      ]
     },
     "execution_count": 111,
     "metadata": {},
     "output_type": "execute_result"
    }
   ],
   "source": [
    "sum3(list2)"
   ]
  },
  {
   "cell_type": "code",
   "execution_count": 112,
   "id": "b610e7fb-aa60-4f79-aaea-b729a9cff84d",
   "metadata": {},
   "outputs": [],
   "source": [
    "d=sum3(list2)"
   ]
  },
  {
   "cell_type": "code",
   "execution_count": 113,
   "id": "f52c79ea-338a-4373-8af2-1ccdf6792907",
   "metadata": {},
   "outputs": [],
   "source": [
    "list1=[1,2,3,22,32,54,34,543,56,6,4]"
   ]
  },
  {
   "cell_type": "code",
   "execution_count": 114,
   "id": "8b7c13fb-2605-4019-b0a8-68f7a6300373",
   "metadata": {},
   "outputs": [
    {
     "data": {
      "text/plain": [
       "757"
      ]
     },
     "execution_count": 114,
     "metadata": {},
     "output_type": "execute_result"
    }
   ],
   "source": [
    "sum3(list1)"
   ]
  },
  {
   "cell_type": "code",
   "execution_count": 116,
   "id": "42d0023f-12be-4690-85e6-8dacff7fce5d",
   "metadata": {},
   "outputs": [
    {
     "name": "stdout",
     "output_type": "stream",
     "text": [
      "[2, 6, 4, 8, 32, 56, 432, 34, 44, 22, 12, 122334]\n",
      "[1, 43, 5, 7, 9, 423, 45, 33]\n"
     ]
    }
   ],
   "source": [
    "list1=[1,2,43,5,6,4,7,8,9,32,423,56,432,34,45,44,33,22,12,122334]\n",
    "list2=[]\n",
    "list3=[]\n",
    "for i in list1:\n",
    "    if i%2==0:\n",
    "        list2.append(i)\n",
    "    else:\n",
    "        list3.append(i)\n",
    "print(list2)\n",
    "print(list3)"
   ]
  },
  {
   "cell_type": "code",
   "execution_count": 117,
   "id": "24fb3244-6119-4ca6-b88b-6d920bf84bb0",
   "metadata": {},
   "outputs": [
    {
     "name": "stdout",
     "output_type": "stream",
     "text": [
      "[2, 6, 4, 8, 32, 56, 432, 34, 44, 22, 12, 122334]\n",
      "[1, 43, 5, 7, 9, 423, 45, 33]\n"
     ]
    }
   ],
   "source": [
    "def even_odd_list(list1):\n",
    "    list1=[1,2,43,5,6,4,7,8,9,32,423,56,432,34,45,44,33,22,12,122334]\n",
    "list2=[]\n",
    "list3=[]\n",
    "for i in list1:\n",
    "    if i%2==0:\n",
    "        list2.append(i)\n",
    "    else:\n",
    "        list3.append(i)\n",
    "print(list2)\n",
    "print(list3)"
   ]
  },
  {
   "cell_type": "code",
   "execution_count": 134,
   "id": "144c3455-fad1-44a8-a66f-b2f988512f40",
   "metadata": {},
   "outputs": [],
   "source": [
    "def even_odd_list(list1):\n",
    "    list2=[]\n",
    "    list3=[]\n",
    "    for i in list1:\n",
    "        if i%2==0:\n",
    "            list2.append(i)\n",
    "        else:\n",
    "            list3.append(i)\n",
    "    return [list2,list3]"
   ]
  },
  {
   "cell_type": "code",
   "execution_count": 135,
   "id": "8c643fec-ee21-4713-a75c-0e7fcdd55e9d",
   "metadata": {},
   "outputs": [],
   "source": [
    "list4=[1,2,43,5,6,4,7,8,9,32,423,56,432,34,45,44,33,22,12,122334]"
   ]
  },
  {
   "cell_type": "code",
   "execution_count": 136,
   "id": "3c7fc62b-9417-4ca1-905e-f117c40dbb43",
   "metadata": {},
   "outputs": [
    {
     "data": {
      "text/plain": [
       "[[2, 6, 4, 8, 32, 56, 432, 34, 44, 22, 12, 122334],\n",
       " [1, 43, 5, 7, 9, 423, 45, 33]]"
      ]
     },
     "execution_count": 136,
     "metadata": {},
     "output_type": "execute_result"
    }
   ],
   "source": [
    "even_odd_list(list4)"
   ]
  },
  {
   "cell_type": "code",
   "execution_count": 7,
   "id": "5d8cedd9-c692-4934-a5d3-0e25d8b8fc4f",
   "metadata": {},
   "outputs": [],
   "source": [
    "def sum6(a,b=0):\n",
    "    c=a+b\n",
    "    return c"
   ]
  },
  {
   "cell_type": "code",
   "execution_count": 8,
   "id": "015ea544-a65f-4c64-9c04-467e733c63e3",
   "metadata": {},
   "outputs": [
    {
     "data": {
      "text/plain": [
       "24"
      ]
     },
     "execution_count": 8,
     "metadata": {},
     "output_type": "execute_result"
    }
   ],
   "source": [
    "sum6(12,12)"
   ]
  },
  {
   "cell_type": "code",
   "execution_count": 9,
   "id": "ff023513-287f-48cd-8ed8-6374b8dfc5bd",
   "metadata": {},
   "outputs": [
    {
     "data": {
      "text/plain": [
       "12"
      ]
     },
     "execution_count": 9,
     "metadata": {},
     "output_type": "execute_result"
    }
   ],
   "source": [
    "sum6(12)"
   ]
  },
  {
   "cell_type": "code",
   "execution_count": 10,
   "id": "8adce6bd-c145-4dfb-b5de-a32494cce026",
   "metadata": {},
   "outputs": [],
   "source": [
    "def sum7(*args):\n",
    "    c=sum(args)\n",
    "    return c"
   ]
  },
  {
   "cell_type": "code",
   "execution_count": 11,
   "id": "df8977d8-5a84-4dbf-9ba1-bb3ca1def67b",
   "metadata": {},
   "outputs": [
    {
     "data": {
      "text/plain": [
       "12"
      ]
     },
     "execution_count": 11,
     "metadata": {},
     "output_type": "execute_result"
    }
   ],
   "source": [
    "sum7(12)"
   ]
  },
  {
   "cell_type": "code",
   "execution_count": 12,
   "id": "0f97838f-4be2-4fd5-afe1-b52c366cf6a9",
   "metadata": {},
   "outputs": [
    {
     "data": {
      "text/plain": [
       "90"
      ]
     },
     "execution_count": 12,
     "metadata": {},
     "output_type": "execute_result"
    }
   ],
   "source": [
    "sum7(12,78)"
   ]
  },
  {
   "cell_type": "code",
   "execution_count": 13,
   "id": "b50f83d5-1666-47c9-b35f-f7d5fa368561",
   "metadata": {},
   "outputs": [
    {
     "data": {
      "text/plain": [
       "236"
      ]
     },
     "execution_count": 13,
     "metadata": {},
     "output_type": "execute_result"
    }
   ],
   "source": [
    "sum7(12,89,56,67,12)"
   ]
  },
  {
   "cell_type": "code",
   "execution_count": 17,
   "id": "a7b03d4f-54c5-4f5e-89e1-e2ad65775685",
   "metadata": {},
   "outputs": [],
   "source": [
    "def sum8(*args):\n",
    "    sum=0\n",
    "    print(args)\n",
    "    for i in args:\n",
    "        sum=sum+i\n",
    "    return sum"
   ]
  },
  {
   "cell_type": "code",
   "execution_count": 19,
   "id": "48d3c63f-8983-4878-9009-9a907cfe8251",
   "metadata": {},
   "outputs": [
    {
     "name": "stdout",
     "output_type": "stream",
     "text": [
      "(12, 56, 89, 45, 12, 23)\n"
     ]
    },
    {
     "data": {
      "text/plain": [
       "237"
      ]
     },
     "execution_count": 19,
     "metadata": {},
     "output_type": "execute_result"
    }
   ],
   "source": [
    "sum8(12,56,89,45,12,23)"
   ]
  },
  {
   "cell_type": "code",
   "execution_count": 21,
   "id": "f4a4d300-9248-47f9-b517-8104dbb5085b",
   "metadata": {},
   "outputs": [
    {
     "name": "stdout",
     "output_type": "stream",
     "text": [
      "(1, 2, 334, 5, 23, -23, -243, -876)\n"
     ]
    },
    {
     "data": {
      "text/plain": [
       "-777"
      ]
     },
     "execution_count": 21,
     "metadata": {},
     "output_type": "execute_result"
    }
   ],
   "source": [
    "sum8(1,2,334,5,23,-23,-243,-876)"
   ]
  },
  {
   "cell_type": "code",
   "execution_count": null,
   "id": "d19335b6-c3c6-4abf-96c5-c279aea77324",
   "metadata": {},
   "outputs": [],
   "source": []
  }
 ],
 "metadata": {
  "kernelspec": {
   "display_name": "Python 3 (ipykernel)",
   "language": "python",
   "name": "python3"
  },
  "language_info": {
   "codemirror_mode": {
    "name": "ipython",
    "version": 3
   },
   "file_extension": ".py",
   "mimetype": "text/x-python",
   "name": "python",
   "nbconvert_exporter": "python",
   "pygments_lexer": "ipython3",
   "version": "3.11.7"
  }
 },
 "nbformat": 4,
 "nbformat_minor": 5
}
